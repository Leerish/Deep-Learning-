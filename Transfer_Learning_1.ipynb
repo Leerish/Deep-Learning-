{
  "nbformat": 4,
  "nbformat_minor": 0,
  "metadata": {
    "colab": {
      "provenance": [],
      "authorship_tag": "ABX9TyMGFGz9MQQ+2sD/EjAxIkJ8",
      "include_colab_link": true
    },
    "kernelspec": {
      "name": "python3",
      "display_name": "Python 3"
    },
    "language_info": {
      "name": "python"
    }
  },
  "cells": [
    {
      "cell_type": "markdown",
      "metadata": {
        "id": "view-in-github",
        "colab_type": "text"
      },
      "source": [
        "<a href=\"https://colab.research.google.com/github/Leerish/Deep-Learning-Notebooks/blob/main/Transfer_Learning_1.ipynb\" target=\"_parent\"><img src=\"https://colab.research.google.com/assets/colab-badge.svg\" alt=\"Open In Colab\"/></a>"
      ]
    },
    {
      "cell_type": "markdown",
      "source": [
        "# Transfer Learning with Tensorflow part : 1 Feature Extraction\n",
        "\n",
        "Transfer Learning is leveraging a working model's existing architecture and learned patterns for our problem.\n",
        "\n",
        "Benefits are:\n",
        "1. Can leverage an existing nueral network architecture proven to work on problems similar to ours\n",
        "2. Can leverage a working nueral network architecture which has already learned patterns on similar to our own , then we can adapt those patterns to our data"
      ],
      "metadata": {
        "id": "onlmSu4LsEOa"
      }
    },
    {
      "cell_type": "code",
      "source": [
        "# Download and becoming onw with the data\n",
        "\n",
        "import zipfile\n",
        "\n",
        "# Download the data\n",
        "!wget = https://storage.googleapis.com/ztm_tf_course/food_vision/10_food_classes_10_percent.zip\n",
        "# Unzip the downloaded file\n",
        "zip_ref = zipfile.ZipFile(\"10_food_classes_10_percent.zip\")\n",
        "zip_ref.extractall()\n",
        "zip_ref.close()"
      ],
      "metadata": {
        "colab": {
          "base_uri": "https://localhost:8080/"
        },
        "id": "vddUGCkCt98P",
        "outputId": "51536468-b668-4dd4-fa68-08fa936710cd"
      },
      "execution_count": null,
      "outputs": [
        {
          "output_type": "stream",
          "name": "stdout",
          "text": [
            "--2023-12-01 04:34:38--  http://=/\n",
            "Resolving = (=)... failed: Name or service not known.\n",
            "wget: unable to resolve host address ‘=’\n",
            "--2023-12-01 04:34:38--  https://storage.googleapis.com/ztm_tf_course/food_vision/10_food_classes_10_percent.zip\n",
            "Resolving storage.googleapis.com (storage.googleapis.com)... 108.177.119.207, 108.177.127.207, 172.217.218.207, ...\n",
            "Connecting to storage.googleapis.com (storage.googleapis.com)|108.177.119.207|:443... connected.\n",
            "HTTP request sent, awaiting response... 200 OK\n",
            "Length: 168546183 (161M) [application/zip]\n",
            "Saving to: ‘10_food_classes_10_percent.zip’\n",
            "\n",
            "10_food_classes_10_ 100%[===================>] 160.74M  31.6MB/s    in 5.5s    \n",
            "\n",
            "2023-12-01 04:34:43 (29.4 MB/s) - ‘10_food_classes_10_percent.zip’ saved [168546183/168546183]\n",
            "\n",
            "FINISHED --2023-12-01 04:34:43--\n",
            "Total wall clock time: 5.7s\n",
            "Downloaded: 1 files, 161M in 5.5s (29.4 MB/s)\n"
          ]
        }
      ]
    },
    {
      "cell_type": "code",
      "source": [
        "# How many images in each folder\n",
        "\n",
        "import os\n",
        "\n",
        "# Walk Through 10 percent data directory and list number of files\n",
        "for dirpath , dirnames , filenames in os.walk(\"10_food_classes_10_percent\"):\n",
        "  print(f\"There are {len(dirnames)} directories and {len(filenames)}images in '{dirpath}'.\")"
      ],
      "metadata": {
        "colab": {
          "base_uri": "https://localhost:8080/"
        },
        "id": "LghYwM1DugUN",
        "outputId": "20251c6a-2376-4cb5-926a-8e56577d5f2c"
      },
      "execution_count": null,
      "outputs": [
        {
          "output_type": "stream",
          "name": "stdout",
          "text": [
            "There are 2 directories and 0images in '10_food_classes_10_percent'.\n",
            "There are 10 directories and 0images in '10_food_classes_10_percent/train'.\n",
            "There are 0 directories and 75images in '10_food_classes_10_percent/train/steak'.\n",
            "There are 0 directories and 75images in '10_food_classes_10_percent/train/hamburger'.\n",
            "There are 0 directories and 75images in '10_food_classes_10_percent/train/grilled_salmon'.\n",
            "There are 0 directories and 75images in '10_food_classes_10_percent/train/ice_cream'.\n",
            "There are 0 directories and 75images in '10_food_classes_10_percent/train/chicken_curry'.\n",
            "There are 0 directories and 75images in '10_food_classes_10_percent/train/pizza'.\n",
            "There are 0 directories and 75images in '10_food_classes_10_percent/train/chicken_wings'.\n",
            "There are 0 directories and 75images in '10_food_classes_10_percent/train/fried_rice'.\n",
            "There are 0 directories and 75images in '10_food_classes_10_percent/train/ramen'.\n",
            "There are 0 directories and 75images in '10_food_classes_10_percent/train/sushi'.\n",
            "There are 10 directories and 0images in '10_food_classes_10_percent/test'.\n",
            "There are 0 directories and 250images in '10_food_classes_10_percent/test/steak'.\n",
            "There are 0 directories and 250images in '10_food_classes_10_percent/test/hamburger'.\n",
            "There are 0 directories and 250images in '10_food_classes_10_percent/test/grilled_salmon'.\n",
            "There are 0 directories and 250images in '10_food_classes_10_percent/test/ice_cream'.\n",
            "There are 0 directories and 250images in '10_food_classes_10_percent/test/chicken_curry'.\n",
            "There are 0 directories and 250images in '10_food_classes_10_percent/test/pizza'.\n",
            "There are 0 directories and 250images in '10_food_classes_10_percent/test/chicken_wings'.\n",
            "There are 0 directories and 250images in '10_food_classes_10_percent/test/fried_rice'.\n",
            "There are 0 directories and 250images in '10_food_classes_10_percent/test/ramen'.\n",
            "There are 0 directories and 250images in '10_food_classes_10_percent/test/sushi'.\n"
          ]
        }
      ]
    },
    {
      "cell_type": "markdown",
      "source": [
        "## Creating data loaders (preparing the data)\n",
        "\n",
        "We will use `ImageDataGenerator`"
      ],
      "metadata": {
        "id": "MEkgLV76vL7J"
      }
    },
    {
      "cell_type": "code",
      "source": [
        "from tensorflow.keras.preprocessing.image import ImageDataGenerator\n",
        "\n",
        "IMAGE_SHAPE=(224,224)\n",
        "BATCH_SIZE=32\n",
        "\n",
        "train_dir = \"10_food_classes_10_percent/train/\"\n",
        "test_dir =\"10_food_classes_10_percent/test/\""
      ],
      "metadata": {
        "id": "EbTtVl3Svtdb"
      },
      "execution_count": null,
      "outputs": []
    },
    {
      "cell_type": "code",
      "source": [
        "train_datagen = ImageDataGenerator(rescale=1/255.)\n",
        "test_datagen=ImageDataGenerator(rescale=1/255.)\n",
        "\n",
        "print(\"Training Images:\")\n",
        "train_datagen_10 = train_datagen.flow_from_directory(train_dir,\n",
        "                                                     target_size=IMAGE_SHAPE,\n",
        "                                                     batch_size=BATCH_SIZE,\n",
        "                                                     class_mode=\"categorical\")\n",
        "print(\"Test Images:\")\n",
        "test_data_10 = test_datagen.flow_from_directory(test_dir,\n",
        "                                                target_size=IMAGE_SHAPE,\n",
        "                                                batch_size=BATCH_SIZE,\n",
        "                                                class_mode=\"categorical\")\n",
        "\n"
      ],
      "metadata": {
        "id": "-LMFIMaDv5cl",
        "colab": {
          "base_uri": "https://localhost:8080/"
        },
        "outputId": "f7760566-5912-44b2-da0f-c928def10704"
      },
      "execution_count": null,
      "outputs": [
        {
          "output_type": "stream",
          "name": "stdout",
          "text": [
            "Training Images:\n",
            "Found 750 images belonging to 10 classes.\n",
            "Test Images:\n",
            "Found 2500 images belonging to 10 classes.\n"
          ]
        }
      ]
    },
    {
      "cell_type": "markdown",
      "source": [
        "## Setting up Callbacks (things to run while our model trains)\n",
        "\n",
        "callbacks are extra functionality you can add to your models\n",
        "to be performed during or after training.Some of the most popular callbacks are:\n",
        "* Tracking Experiment with TensorBoard callbacks\n",
        "* Model CheckPoint ( Saving a checkpoint )\n",
        "* Early Stopping (Stops when a particular metric stops improving)"
      ],
      "metadata": {
        "id": "HRxBtZQqqE2f"
      }
    },
    {
      "cell_type": "code",
      "source": [
        "import tensorflow as tf\n",
        "\n",
        "import datetime"
      ],
      "metadata": {
        "id": "ezdQgVRitg2F"
      },
      "execution_count": null,
      "outputs": []
    },
    {
      "cell_type": "code",
      "source": [
        "# Create TensorBoard Callback (Function)\n",
        "\n",
        "def create_callback(dirname ,experiment_name):\n",
        "  \"\"\"\n",
        "  \"\"\"\n",
        "\n",
        "  log_dir = dirname+\"/\"+experiment_name+\"/\"+datetime.datetime.now().strftime(\"%Y%m%d-%H%M%S\")\n",
        "\n",
        "  tensorboard_callback = tf.keras.callbacks.TensorBoard(log_dir=log_dir)\n",
        "  print(f\"Saving TensorBoard log files to :{log_dir}\")\n",
        "  return tensorboard_callback"
      ],
      "metadata": {
        "id": "Hj1OOgi4r10-"
      },
      "execution_count": null,
      "outputs": []
    },
    {
      "cell_type": "markdown",
      "source": [
        "## Creating models using TensorFlow Hub\n",
        "\n",
        "We've used tensorflow to create model layer by layer from the scratch , now we are going to acces pre-trained model from [TensorFlow Hub](tfhub.dev)\n",
        "\n",
        "Have a Look at best models at [Papers with code](paperswithcode.com)\n",
        "\n",
        "Browsing TensorFlow hub page which redirects to kaggle models we found this model:\"https://www.kaggle.com/models/google/efficientnet-v2/frameworks/TensorFlow2/variations/imagenet1k-b0-feature-vector/versions/2\""
      ],
      "metadata": {
        "id": "_1LSmqLSt1nh"
      }
    },
    {
      "cell_type": "code",
      "source": [
        "# Let's Compare the following models\n",
        "\n",
        "resnet_url = \"https://www.kaggle.com/models/google/resnet-v2/frameworks/TensorFlow2/variations/50-feature-vector/versions/2\"\n",
        "\n",
        "efficientnet_url =\"https://www.kaggle.com/models/google/efficientnet-v2/frameworks/TensorFlow2/variations/imagenet1k-b0-feature-vector/versions/2\"\n",
        "\n"
      ],
      "metadata": {
        "id": "vIFcQ9XiuNlT"
      },
      "execution_count": null,
      "outputs": []
    },
    {
      "cell_type": "code",
      "source": [
        "# Importing dependencies\n",
        "import tensorflow as tf\n",
        "import tensorflow_hub as hub\n",
        "from tensorflow.keras import layers"
      ],
      "metadata": {
        "id": "KoFrYfs_xUQB"
      },
      "execution_count": null,
      "outputs": []
    },
    {
      "cell_type": "code",
      "source": [
        "# Let's make a model\n",
        "\n",
        "def create_model(model_url , num_classes =10):\n",
        "  \"\"\"\n",
        "  Takes a TensorFlow Hub URL and creates a keras Sequential model with it\n",
        "\n",
        "  Args:\n",
        "      model_url(str): A TensorFlow Hub feature extraction URL.\n",
        "      num_classes(int): Number of output Neurons in the output layer\n",
        "  \"\"\"\n",
        "\n",
        "  # Download the pretrained model and save it as a Keras Layer\n",
        "  feature_extraction_layer = hub.KerasLayer(model_url ,\n",
        "                                            trainable = False,\n",
        "                                            name =\"feature_extraction_layer\",\n",
        "                                            input_shape = IMAGE_SHAPE+(3,)) # Freeze the already learned patterns\n",
        "\n",
        "  # Create our own model\n",
        "  model = tf.keras.Sequential([\n",
        "      feature_extraction_layer,\n",
        "      layers.Dense(num_classes , activation=\"softmax\" , name=\"output_layer\")\n",
        "  ])\n",
        "  return model"
      ],
      "metadata": {
        "id": "nGnfA6NAybeB"
      },
      "execution_count": null,
      "outputs": []
    },
    {
      "cell_type": "markdown",
      "source": [
        "### Creating and testing ResNet model"
      ],
      "metadata": {
        "id": "3_4EVLMjz2RZ"
      }
    },
    {
      "cell_type": "code",
      "source": [
        "# Create a ResNet model\n",
        "resnet_model = create_model(resnet_url , num_classes = train_datagen_10.num_classes)"
      ],
      "metadata": {
        "id": "cxOOUiObz0zX"
      },
      "execution_count": null,
      "outputs": []
    },
    {
      "cell_type": "code",
      "source": [
        "# Compile the model\n",
        "resnet_model.compile(loss = \"categorical_crossentropy\",\n",
        "                     optimizer = tf.keras.optimizers.Adam(),\n",
        "                     metrics = [\"accuracy\"])\n"
      ],
      "metadata": {
        "id": "0VLUZHmX0aF-"
      },
      "execution_count": null,
      "outputs": []
    },
    {
      "cell_type": "code",
      "source": [
        "resnet_model.fit(train_datagen_10 ,\n",
        "                 epochs = 10 ,\n",
        "                 steps_per_epoch = len(train_datagen_10) ,\n",
        "                 validation_data = test_data_10 ,\n",
        "                 validation_steps = len(test_data_10)\n",
        "                 )"
      ],
      "metadata": {
        "colab": {
          "base_uri": "https://localhost:8080/"
        },
        "id": "FfFhcOPv0wbC",
        "outputId": "50a05621-828c-494b-9eac-4eace2da7a49"
      },
      "execution_count": null,
      "outputs": [
        {
          "output_type": "stream",
          "name": "stdout",
          "text": [
            "Epoch 1/10\n",
            "24/24 [==============================] - 26s 550ms/step - loss: 1.8618 - accuracy: 0.3867 - val_loss: 1.1676 - val_accuracy: 0.6300\n",
            "Epoch 2/10\n",
            "24/24 [==============================] - 11s 471ms/step - loss: 0.8722 - accuracy: 0.7533 - val_loss: 0.8264 - val_accuracy: 0.7432\n",
            "Epoch 3/10\n",
            "24/24 [==============================] - 14s 561ms/step - loss: 0.5985 - accuracy: 0.8360 - val_loss: 0.7410 - val_accuracy: 0.7544\n",
            "Epoch 4/10\n",
            "24/24 [==============================] - 13s 544ms/step - loss: 0.4654 - accuracy: 0.8680 - val_loss: 0.6970 - val_accuracy: 0.7740\n",
            "Epoch 5/10\n",
            "24/24 [==============================] - 10s 438ms/step - loss: 0.3672 - accuracy: 0.9093 - val_loss: 0.6791 - val_accuracy: 0.7748\n",
            "Epoch 6/10\n",
            "24/24 [==============================] - 11s 470ms/step - loss: 0.3101 - accuracy: 0.9347 - val_loss: 0.6494 - val_accuracy: 0.7824\n",
            "Epoch 7/10\n",
            "24/24 [==============================] - 13s 540ms/step - loss: 0.2538 - accuracy: 0.9560 - val_loss: 0.6330 - val_accuracy: 0.7904\n",
            "Epoch 8/10\n",
            "24/24 [==============================] - 10s 437ms/step - loss: 0.2148 - accuracy: 0.9653 - val_loss: 0.6419 - val_accuracy: 0.7880\n",
            "Epoch 9/10\n",
            "24/24 [==============================] - 11s 469ms/step - loss: 0.1834 - accuracy: 0.9800 - val_loss: 0.6294 - val_accuracy: 0.7896\n",
            "Epoch 10/10\n",
            "24/24 [==============================] - 11s 474ms/step - loss: 0.1628 - accuracy: 0.9840 - val_loss: 0.6469 - val_accuracy: 0.7844\n"
          ]
        },
        {
          "output_type": "execute_result",
          "data": {
            "text/plain": [
              "<keras.src.callbacks.History at 0x7c0c2858aa70>"
            ]
          },
          "metadata": {},
          "execution_count": 14
        }
      ]
    },
    {
      "cell_type": "code",
      "source": [
        "# Fitting our model with callbacks\n",
        "\n",
        "resnet_history = resnet_model.fit(train_datagen_10 ,\n",
        "                 epochs = 5 ,\n",
        "                 steps_per_epoch = len(train_datagen_10) ,\n",
        "                 validation_data = test_data_10 ,\n",
        "                 validation_steps = len(test_data_10),\n",
        "                 callbacks=[create_callback(dirname=\"tensorflow_hub\" , experiment_name=\"resnetV250\")]\n",
        "                 )"
      ],
      "metadata": {
        "colab": {
          "base_uri": "https://localhost:8080/"
        },
        "id": "ojeHUirs1Og5",
        "outputId": "271ae580-4384-4ce6-cbab-ad14f79af745"
      },
      "execution_count": null,
      "outputs": [
        {
          "output_type": "stream",
          "name": "stdout",
          "text": [
            "Saving TensorBoard log files to :tensorflow_hub/resnetV250/20231201-052805\n",
            "Epoch 1/5\n",
            "24/24 [==============================] - 11s 447ms/step - loss: 0.1398 - accuracy: 0.9867 - val_loss: 0.6261 - val_accuracy: 0.7976\n",
            "Epoch 2/5\n",
            "24/24 [==============================] - 11s 468ms/step - loss: 0.1231 - accuracy: 0.9933 - val_loss: 0.6160 - val_accuracy: 0.8004\n",
            "Epoch 3/5\n",
            "24/24 [==============================] - 11s 467ms/step - loss: 0.1061 - accuracy: 0.9947 - val_loss: 0.6141 - val_accuracy: 0.8004\n",
            "Epoch 4/5\n",
            "24/24 [==============================] - 11s 458ms/step - loss: 0.0956 - accuracy: 0.9960 - val_loss: 0.6188 - val_accuracy: 0.7956\n",
            "Epoch 5/5\n",
            "24/24 [==============================] - 11s 466ms/step - loss: 0.0858 - accuracy: 0.9960 - val_loss: 0.6220 - val_accuracy: 0.7968\n"
          ]
        }
      ]
    },
    {
      "cell_type": "markdown",
      "source": [
        "Our Transfer Leanring feature extractor model out performs the all the previous model buildt by hand in a quicker training time and with 10% of total data"
      ],
      "metadata": {
        "id": "fjYrC69C3Xqs"
      }
    },
    {
      "cell_type": "markdown",
      "source": [
        "### A Function to Plot Loss Curve\n"
      ],
      "metadata": {
        "id": "0tvV_8wD2SZI"
      }
    },
    {
      "cell_type": "code",
      "source": [
        "import matplotlib.pyplot as plt"
      ],
      "metadata": {
        "id": "fVEYSJQC46sW"
      },
      "execution_count": null,
      "outputs": []
    },
    {
      "cell_type": "code",
      "source": [
        "def plot_loss_curve(history):\n",
        "\n",
        "  loss = history.history[\"loss\"]\n",
        "  val_loss = history.history[\"val_loss\"]\n",
        "\n",
        "  accuracy=history.history[\"accuracy\"]\n",
        "  val_accuracy=history.history[\"val_accuracy\"]\n",
        "\n",
        "  epochs = range(len(history.history[\"loss\"]))\n",
        "\n",
        "  #Plot Training curve\n",
        "  plt.plot(epochs , loss , label=\"Training Loss\")\n",
        "  plt.plot(epochs , val_loss , label=\"Validation Loss\")\n",
        "  plt.title(\"Loss Curve\")\n",
        "  plt.xlabel(\"Epochs\")\n",
        "  plt.legend()\n",
        "\n",
        "  #Plot Validation Curve\n",
        "  plt.figure()\n",
        "  plt.plot(epochs , accuracy , label=\"Training accuracy\")\n",
        "  plt.plot(epochs , val_accuracy , label=\"Validation accuracy\")\n",
        "  plt.title(\"Accuracy Curve\")\n",
        "  plt.xlabel(\"Epochs\")\n",
        "  plt.legend()"
      ],
      "metadata": {
        "id": "iD48Ilnp49gS"
      },
      "execution_count": null,
      "outputs": []
    },
    {
      "cell_type": "code",
      "source": [
        "plot_loss_curve(resnet_history)"
      ],
      "metadata": {
        "colab": {
          "base_uri": "https://localhost:8080/",
          "height": 927
        },
        "id": "8gPdld9i6aME",
        "outputId": "14795062-f37c-489d-8f34-50dc0f46e6dd"
      },
      "execution_count": null,
      "outputs": [
        {
          "output_type": "display_data",
          "data": {
            "text/plain": [
              "<Figure size 640x480 with 1 Axes>"
            ],
            "image/png": "[encoded data removed]"
          },
          "metadata": {}
        },
        {
          "output_type": "display_data",
          "data": {
            "text/plain": [
              "<Figure size 640x480 with 1 Axes>"
            ],
            "image/png": "[encoded data removed]"
          },
          "metadata": {}
        }
      ]
    },
    {
      "cell_type": "markdown",
      "source": [
        "\n",
        "###Creating and testing Efficientnet model"
      ],
      "metadata": {
        "id": "qwEDj2Jv7d2N"
      }
    },
    {
      "cell_type": "code",
      "source": [
        "# Create model\n",
        "efficientnet_model = create_model(efficientnet_url)"
      ],
      "metadata": {
        "id": "w58U5MMz7E3R"
      },
      "execution_count": null,
      "outputs": []
    },
    {
      "cell_type": "code",
      "source": [
        "# Compile the model\n",
        "efficientnet_model.compile(loss = \"categorical_crossentropy\",\n",
        "                           optimizer = tf.keras.optimizers.Adam(),\n",
        "                           metrics=[\"accuracy\"])"
      ],
      "metadata": {
        "id": "3k5pt05c7ve3"
      },
      "execution_count": null,
      "outputs": []
    },
    {
      "cell_type": "code",
      "source": [
        "# Fitting the model\n",
        "eff_history = efficientnet_model.fit(train_datagen_10,\n",
        "                                     epochs = 5,\n",
        "                                     steps_per_epoch=len(train_datagen_10),\n",
        "                                     validation_data=test_data_10,\n",
        "                                     validation_steps=len(test_data_10),\n",
        "                                     callbacks=[create_callback(dirname=\"tensorflow_hub\" , experiment_name=\"efficientnetV2\")])"
      ],
      "metadata": {
        "colab": {
          "base_uri": "https://localhost:8080/"
        },
        "id": "ioFzTpDI8CoA",
        "outputId": "9a166347-6c70-4380-c7ad-e6868f001a3c"
      },
      "execution_count": null,
      "outputs": [
        {
          "output_type": "stream",
          "name": "stdout",
          "text": [
            "Saving TensorBoard log files to :tensorflow_hub/efficientnetV2/20231201-055544\n",
            "Epoch 1/5\n",
            "24/24 [==============================] - 22s 556ms/step - loss: 1.9284 - accuracy: 0.3693 - val_loss: 1.4737 - val_accuracy: 0.6308\n",
            "Epoch 2/5\n",
            "24/24 [==============================] - 10s 435ms/step - loss: 1.2772 - accuracy: 0.6840 - val_loss: 1.0986 - val_accuracy: 0.7140\n",
            "Epoch 3/5\n",
            "24/24 [==============================] - 13s 539ms/step - loss: 0.9858 - accuracy: 0.7653 - val_loss: 0.9329 - val_accuracy: 0.7460\n",
            "Epoch 4/5\n",
            "24/24 [==============================] - 12s 535ms/step - loss: 0.8280 - accuracy: 0.8013 - val_loss: 0.8451 - val_accuracy: 0.7592\n",
            "Epoch 5/5\n",
            "24/24 [==============================] - 10s 406ms/step - loss: 0.7213 - accuracy: 0.8453 - val_loss: 0.7896 - val_accuracy: 0.7712\n"
          ]
        }
      ]
    },
    {
      "cell_type": "code",
      "source": [
        "plot_loss_curve(eff_history)"
      ],
      "metadata": {
        "colab": {
          "base_uri": "https://localhost:8080/",
          "height": 927
        },
        "id": "Ij6Ffw8w8oB0",
        "outputId": "e068e79f-4499-4a2a-87f1-65815dbc6d33"
      },
      "execution_count": null,
      "outputs": [
        {
          "output_type": "display_data",
          "data": {
            "text/plain": [
              "<Figure size 640x480 with 1 Axes>"
            ],
            "image/png": "[encoded data removed]"
          },
          "metadata": {}
        },
        {
          "output_type": "display_data",
          "data": {
            "text/plain": [
              "<Figure size 640x480 with 1 Axes>"
            ],
            "image/png": "[encoded data removed]"
          },
          "metadata": {}
        }
      ]
    },
    {
      "cell_type": "code",
      "source": [
        "efficientnet_model.summary()"
      ],
      "metadata": {
        "colab": {
          "base_uri": "https://localhost:8080/"
        },
        "id": "mb2pPFV68_Na",
        "outputId": "cf725bf3-c3db-4c86-a888-81ef49a89f71"
      },
      "execution_count": null,
      "outputs": [
        {
          "output_type": "stream",
          "name": "stdout",
          "text": [
            "Model: \"sequential_1\"\n",
            "_________________________________________________________________\n",
            " Layer (type)                Output Shape              Param #   \n",
            "=================================================================\n",
            " feature_extraction_layer (  (None, 1280)              5919312   \n",
            " KerasLayer)                                                     \n",
            "                                                                 \n",
            " output_layer (Dense)        (None, 10)                12810     \n",
            "                                                                 \n",
            "=================================================================\n",
            "Total params: 5932122 (22.63 MB)\n",
            "Trainable params: 12810 (50.04 KB)\n",
            "Non-trainable params: 5919312 (22.58 MB)\n",
            "_________________________________________________________________\n"
          ]
        }
      ]
    },
    {
      "cell_type": "code",
      "source": [
        "resnet_model.summary()"
      ],
      "metadata": {
        "colab": {
          "base_uri": "https://localhost:8080/"
        },
        "id": "EQx1_uVG-aIG",
        "outputId": "2574e56d-17ed-468c-b648-2156b2c5a502"
      },
      "execution_count": null,
      "outputs": [
        {
          "output_type": "stream",
          "name": "stdout",
          "text": [
            "Model: \"sequential\"\n",
            "_________________________________________________________________\n",
            " Layer (type)                Output Shape              Param #   \n",
            "=================================================================\n",
            " feature_extraction_layer (  (None, 2048)              23564800  \n",
            " KerasLayer)                                                     \n",
            "                                                                 \n",
            " output_layer (Dense)        (None, 10)                20490     \n",
            "                                                                 \n",
            "=================================================================\n",
            "Total params: 23585290 (89.97 MB)\n",
            "Trainable params: 20490 (80.04 KB)\n",
            "Non-trainable params: 23564800 (89.89 MB)\n",
            "_________________________________________________________________\n"
          ]
        }
      ]
    },
    {
      "cell_type": "markdown",
      "source": [
        "## Different Types of Transfer Learning\n",
        "* \"As is\" transfer learning - using an existing model with no changes what so ever\n",
        "* \"Feature Extraction\" - use prelearned patterns of existing model and adjust the output layer for our problem.\n",
        "* \"Fine Tunning\" - use prelearned patterns of existing model and \"fine-tune\" underlying models"
      ],
      "metadata": {
        "id": "1MyEo2Rd-jFi"
      }
    },
    {
      "cell_type": "code",
      "source": [
        "efficientnet_model.layers[0]"
      ],
      "metadata": {
        "colab": {
          "base_uri": "https://localhost:8080/"
        },
        "id": "AmS1cX_Z_X2k",
        "outputId": "a883b5b7-a1e1-4ffd-c796-f842fab81525"
      },
      "execution_count": null,
      "outputs": [
        {
          "output_type": "execute_result",
          "data": {
            "text/plain": [
              "<tensorflow_hub.keras_layer.KerasLayer at 0x7c0c02fc9e40>"
            ]
          },
          "metadata": {},
          "execution_count": 27
        }
      ]
    },
    {
      "cell_type": "code",
      "source": [
        "len(efficientnet_model.layers[0].weights)"
      ],
      "metadata": {
        "colab": {
          "base_uri": "https://localhost:8080/"
        },
        "id": "T9AndFsL_qm-",
        "outputId": "c1711d20-1850-43c4-812f-e104eca5f8eb"
      },
      "execution_count": null,
      "outputs": [
        {
          "output_type": "execute_result",
          "data": {
            "text/plain": [
              "359"
            ]
          },
          "metadata": {},
          "execution_count": 29
        }
      ]
    },
    {
      "cell_type": "markdown",
      "source": [
        "## Comparing the model results using TensorBoard\n",
        "\n",
        "> **Note:** While uploading stuffs to TensorBoard.dev , your experiments are public"
      ],
      "metadata": {
        "id": "boB5-eaY_v3Q"
      }
    },
    {
      "cell_type": "code",
      "source": [
        "# Upload TensorBoard dev records\n",
        "! tensorboard dev upload --logdir ./tensorflow_hub --name \"EfficientNetB0 vs ResNet50V2\" --description \"Comparing two different TF hub feature extraction model architectures using 10% of training data\" --one_shot\n"
      ],
      "metadata": {
        "id": "e8uiTNzbBC_T"
      },
      "execution_count": null,
      "outputs": []
    },
    {
      "cell_type": "code",
      "source": [],
      "metadata": {
        "id": "ds2SZ0xiCaVJ"
      },
      "execution_count": null,
      "outputs": []
    }
  ]
}